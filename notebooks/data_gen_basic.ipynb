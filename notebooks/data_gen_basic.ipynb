{
 "cells": [
  {
   "cell_type": "code",
   "execution_count": 1,
   "id": "initial_id",
   "metadata": {
    "collapsed": true,
    "ExecuteTime": {
     "end_time": "2024-03-01T14:05:45.673603999Z",
     "start_time": "2024-03-01T14:05:45.414933374Z"
    }
   },
   "outputs": [],
   "source": [
    "import numpy as np\n",
    "import pandas as pd\n",
    "import random"
   ]
  },
  {
   "cell_type": "code",
   "execution_count": 2,
   "outputs": [],
   "source": [
    "# time, theta, shooter_speed, pivot_angle, elevator_height, x, y, vx, vy\n",
    "# ms,   rot,   rpm,           deg,         cm,              fld, fld, fld/s, fld/s\n",
    "NUM_ROWS = 50_000\n",
    "\n",
    "time = np.sort(np.random.randint(0, 1000 * 135, (NUM_ROWS, 1)), axis=0)\n",
    "\n",
    "theta = np.random.random((NUM_ROWS, 1))\n",
    "\n",
    "shooter_speed = np.random.uniform(2000, 5000, (NUM_ROWS, 1))\n",
    "\n",
    "pivot_angle = np.random.uniform(0, 90, (NUM_ROWS, 1))\n",
    "\n",
    "elevator_height = np.random.uniform(0, 100, (NUM_ROWS, 1))\n",
    "\n",
    "x_y = np.random.random((NUM_ROWS, 2))\n",
    "\n",
    "vx_vy = np.random.uniform(0, 0.5, (NUM_ROWS, 2))"
   ],
   "metadata": {
    "collapsed": false,
    "ExecuteTime": {
     "end_time": "2024-03-01T14:05:46.982764534Z",
     "start_time": "2024-03-01T14:05:46.973997800Z"
    }
   },
   "id": "6439e9f9fa530e5d"
  },
  {
   "cell_type": "code",
   "execution_count": 3,
   "outputs": [],
   "source": [
    "# Add columns\n",
    "generated_data = np.hstack((time, theta, shooter_speed, pivot_angle, elevator_height, x_y, vx_vy))\n",
    "\n",
    "went_in = []\n",
    "for row in generated_data:\n",
    "    if row[5] < 0.1:\n",
    "        went_in.append(1)\n",
    "    elif row[5] < 0.5:\n",
    "        went_in.append(random.choice([0, 1]))\n",
    "    else:\n",
    "        went_in.append(0)\n",
    "\n",
    "generated_data = np.hstack((generated_data, np.array(went_in).reshape(-1, 1)))"
   ],
   "metadata": {
    "collapsed": false,
    "ExecuteTime": {
     "end_time": "2024-03-01T14:05:47.957150280Z",
     "start_time": "2024-03-01T14:05:47.925545884Z"
    }
   },
   "id": "aa1d556eff85aef1"
  },
  {
   "cell_type": "code",
   "execution_count": 5,
   "outputs": [],
   "source": [
    "data_pd = pd.DataFrame(generated_data,\n",
    "                       columns=['time', 'theta', 'shooter_speed', 'pivot_angle', 'elevator_height', 'x', 'y', 'vx',\n",
    "                                'vy', 'went_in'])\n",
    "\n",
    "data_pd.to_csv(\"../data/basic.csv\", index=False)"
   ],
   "metadata": {
    "collapsed": false,
    "ExecuteTime": {
     "end_time": "2024-03-01T14:06:31.953503411Z",
     "start_time": "2024-03-01T14:06:31.327313545Z"
    }
   },
   "id": "76d354750898d88f"
  }
 ],
 "metadata": {
  "kernelspec": {
   "display_name": "Python 3",
   "language": "python",
   "name": "python3"
  },
  "language_info": {
   "codemirror_mode": {
    "name": "ipython",
    "version": 2
   },
   "file_extension": ".py",
   "mimetype": "text/x-python",
   "name": "python",
   "nbconvert_exporter": "python",
   "pygments_lexer": "ipython2",
   "version": "2.7.6"
  }
 },
 "nbformat": 4,
 "nbformat_minor": 5
}
