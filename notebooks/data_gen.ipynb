{
 "cells": [
  {
   "cell_type": "code",
   "execution_count": 1,
   "id": "initial_id",
   "metadata": {
    "collapsed": true,
    "ExecuteTime": {
     "end_time": "2024-03-05T02:14:06.208388365Z",
     "start_time": "2024-03-05T02:14:04.699724670Z"
    }
   },
   "outputs": [
    {
     "name": "stdout",
     "output_type": "stream",
     "text": [
      "Jupyter environment detected. Enabling Open3D WebVisualizer.\n",
      "[Open3D INFO] WebRTC GUI backend enabled.\n",
      "[Open3D INFO] WebRTCWindowSystem: HTTP handshake server disabled.\n"
     ]
    }
   ],
   "source": [
    "import numpy as np\n",
    "import open3d as o3d\n",
    "from scipy.spatial.transform import Rotation as R\n",
    "import pandas as pd"
   ]
  },
  {
   "cell_type": "code",
   "execution_count": 2,
   "outputs": [],
   "source": [
    "def check_ray_rectangle_intersection(ray_origin, ray_direction, rectangle_corners):\n",
    "    # Define the plane of the rectangle\n",
    "    plane_normal = np.cross(rectangle_corners[1] - rectangle_corners[0], rectangle_corners[2] - rectangle_corners[0])\n",
    "    plane_d = -np.dot(plane_normal, rectangle_corners[0])\n",
    "\n",
    "    # Check if ray intersects the plane of the rectangle\n",
    "    t = -(np.dot(plane_normal, ray_origin) + plane_d) / np.dot(plane_normal, ray_direction)\n",
    "    if t < 0:\n",
    "        return False, None  # Intersection is behind the ray origin\n",
    "\n",
    "    # Calculate intersection point with the plane\n",
    "    intersection_point = ray_origin + t * ray_direction\n",
    "\n",
    "    # Check if intersection point is within rectangle boundaries\n",
    "    min_x, max_x = min(rectangle_corners[:, 0]), max(rectangle_corners[:, 0])\n",
    "    min_y, max_y = min(rectangle_corners[:, 1]), max(rectangle_corners[:, 1])\n",
    "    min_z, max_z = min(rectangle_corners[:, 2]), max(rectangle_corners[:, 2])\n",
    "    if not (min_x <= intersection_point[0] <= max_x and\n",
    "            min_y <= intersection_point[1] <= max_y and\n",
    "            min_z <= intersection_point[2] <= max_z):\n",
    "        return False, None\n",
    "\n",
    "    return True, intersection_point"
   ],
   "metadata": {
    "collapsed": false,
    "ExecuteTime": {
     "end_time": "2024-03-05T02:14:06.215944707Z",
     "start_time": "2024-03-05T02:14:06.209727462Z"
    }
   },
   "id": "ff31f5ea4fde7b81"
  },
  {
   "cell_type": "code",
   "execution_count": 3,
   "outputs": [],
   "source": [
    "def draw_geometries(pcds):\n",
    "    \"\"\"\n",
    "    Draw Geometries\n",
    "    Args:\n",
    "        - pcds (): [pcd1,pcd2,...]\n",
    "    \"\"\"\n",
    "    o3d.visualization.draw_geometries(pcds)\n",
    "\n",
    "\n",
    "def get_o3d_FOR(origin=[0, 0, 0], size=10):\n",
    "    \"\"\" \n",
    "    Create a FOR that can be added to the open3d point cloud\n",
    "    \"\"\"\n",
    "    mesh_frame = o3d.geometry.TriangleMesh.create_coordinate_frame(\n",
    "        size=size)\n",
    "    mesh_frame.translate(origin)\n",
    "    return (mesh_frame)\n",
    "\n",
    "\n",
    "def vector_magnitude(vec):\n",
    "    \"\"\"\n",
    "    Calculates a vector's magnitude.\n",
    "    Args:\n",
    "        - vec (): \n",
    "    \"\"\"\n",
    "    magnitude = np.sqrt(np.sum(vec ** 2))\n",
    "    return (magnitude)\n",
    "\n",
    "\n",
    "def calculate_zy_rotation_for_arrow(vec):\n",
    "    \"\"\"\n",
    "    Calculates the rotations required to go from the vector vec to the \n",
    "    z axis vector of the original FOR. The first rotation that is \n",
    "    calculated is over the z axis. This will leave the vector vec on the\n",
    "    XZ plane. Then, the rotation over the y axis. \n",
    "\n",
    "    Returns the angles of rotation over axis z and y required to\n",
    "    get the vector vec into the same orientation as axis z\n",
    "    of the original FOR\n",
    "\n",
    "    Args:\n",
    "        - vec (): \n",
    "    \"\"\"\n",
    "    # Rotation over z axis of the FOR\n",
    "    gamma = np.arctan(vec[1] / vec[0])\n",
    "    Rz = np.array([[np.cos(gamma), -np.sin(gamma), 0],\n",
    "                   [np.sin(gamma), np.cos(gamma), 0],\n",
    "                   [0, 0, 1]])\n",
    "    # Rotate vec to calculate next rotation\n",
    "    vec = Rz.T @ vec.reshape(-1, 1)\n",
    "    vec = vec.reshape(-1)\n",
    "    # Rotation over y axis of the FOR\n",
    "    beta = np.arctan(vec[0] / vec[2])\n",
    "    Ry = np.array([[np.cos(beta), 0, np.sin(beta)],\n",
    "                   [0, 1, 0],\n",
    "                   [-np.sin(beta), 0, np.cos(beta)]])\n",
    "    return (Rz, Ry)\n",
    "\n",
    "\n",
    "def create_arrow(scale=10):\n",
    "    \"\"\"\n",
    "    Create an arrow in for Open3D\n",
    "    \"\"\"\n",
    "    cone_height = scale * 0.2\n",
    "    cylinder_height = scale * 0.8\n",
    "    cone_radius = scale / 10\n",
    "    cylinder_radius = scale / 20\n",
    "    mesh_frame = o3d.geometry.TriangleMesh.create_arrow(cone_radius=1,\n",
    "                                                        cone_height=cone_height,\n",
    "                                                        cylinder_radius=0.5,\n",
    "                                                        cylinder_height=cylinder_height)\n",
    "    return (mesh_frame)\n",
    "\n",
    "\n",
    "def get_arrow(origin=[0, 0, 0], end=None, vec=None) -> o3d.geometry.TriangleMesh:\n",
    "    \"\"\"\n",
    "    Creates an arrow from an origin point to an end point,\n",
    "    or create an arrow from a vector vec starting from origin.\n",
    "    Args:\n",
    "        - end (): End point. [x,y,z]\n",
    "        - vec (): Vector. [i,j,k]\n",
    "    \"\"\"\n",
    "    scale = 10\n",
    "    Ry = Rz = np.eye(3)\n",
    "    T = np.array([[1, 0, 0, 0], [0, 1, 0, 0], [0, 0, 1, 0], [0, 0, 0, 1]])\n",
    "    T[:3, -1] = origin\n",
    "    if end is not None:\n",
    "        vec = np.array(end) - np.array(origin)\n",
    "    elif vec is not None:\n",
    "        vec = np.array(vec)\n",
    "    if end is not None or vec is not None:\n",
    "        scale = vector_magnitude(vec)\n",
    "        Rz, Ry = calculate_zy_rotation_for_arrow(vec)\n",
    "    mesh = create_arrow(scale)\n",
    "    # Create the arrow\n",
    "    mesh.rotate(Ry, center=np.array([0, 0, 0]))\n",
    "    mesh.rotate(Rz, center=np.array([0, 0, 0]))\n",
    "    mesh.translate(origin)\n",
    "    return (mesh)"
   ],
   "metadata": {
    "collapsed": false,
    "ExecuteTime": {
     "end_time": "2024-03-05T02:14:06.372146379Z",
     "start_time": "2024-03-05T02:14:06.370776793Z"
    }
   },
   "id": "8ab3423e902e337f"
  },
  {
   "cell_type": "code",
   "execution_count": 4,
   "outputs": [],
   "source": [
    "def get_rectangle_corners(x, y, z, yaw, pitch, roll, width, height):\n",
    "    # Convert angles from degrees to radians\n",
    "    yaw_rad = np.deg2rad(yaw)\n",
    "    pitch_rad = np.deg2rad(pitch)\n",
    "    roll_rad = np.deg2rad(roll)\n",
    "\n",
    "    # Create rotation matrix from Euler angles\n",
    "    rotation_matrix = R.from_euler('zyx', [yaw_rad, pitch_rad, roll_rad]).as_matrix()\n",
    "\n",
    "    # Define the four corners of the rectangle in local coordinates\n",
    "    half_width = width / 2\n",
    "    half_height = height / 2\n",
    "    corners_local = np.array([\n",
    "        [-half_width, -half_height, 0],\n",
    "        [half_width, -half_height, 0],\n",
    "        [half_width, half_height, 0],\n",
    "        [-half_width, half_height, 0]\n",
    "    ])\n",
    "\n",
    "    # Apply rotation and translation to get the corners in global coordinates\n",
    "    corners_global = (rotation_matrix @ corners_local.T).T + np.array([x, y, z])\n",
    "\n",
    "    return corners_global\n"
   ],
   "metadata": {
    "collapsed": false,
    "ExecuteTime": {
     "end_time": "2024-03-05T02:14:09.528970884Z",
     "start_time": "2024-03-05T02:14:09.524259790Z"
    }
   },
   "id": "8925507d40f848a4"
  },
  {
   "cell_type": "code",
   "execution_count": 5,
   "outputs": [],
   "source": [
    "field_w, field_h = (54 * 12) + 3.25, (26 * 12) + 11.25\n",
    "\n",
    "width, height = 41.375000, 20.119292  # Size\n",
    "x, y, z = 84.111, 78.136139, field_w  # Position, bottom left corner, RED ALLIANCE\n",
    "\n",
    "# Convert x, y to centre\n",
    "x = x + width / 2\n",
    "y = y + height / 2\n",
    "\n",
    "yaw, pitch, roll = 0, 0, 104.000000  # Orientation in degrees\n",
    "\n",
    "corners = get_rectangle_corners(x, y, z, yaw, pitch, roll, width, height)"
   ],
   "metadata": {
    "collapsed": false,
    "ExecuteTime": {
     "end_time": "2024-03-05T02:14:11.322435531Z",
     "start_time": "2024-03-05T02:14:11.317999728Z"
    }
   },
   "id": "ffc53652ce247572"
  },
  {
   "cell_type": "code",
   "execution_count": 44,
   "outputs": [],
   "source": [
    "num_shots = 5000\n",
    "rays = []\n",
    "raw_rays = []\n",
    "for _ in range(0, num_shots):\n",
    "    # height = np.random.uniform(0, 10)\n",
    "    height = 0\n",
    "\n",
    "    fy, fx = np.random.uniform(0, field_h), np.random.uniform(0, field_w)\n",
    "\n",
    "    # Generate a random shot\n",
    "    ray_origin = np.array([fy, height, fx])\n",
    "\n",
    "    ray_direction = np.array([np.random.uniform(-1, 1), np.random.uniform(0, 1), np.random.uniform(0, 1)])\n",
    "\n",
    "    intersect, intersection = check_ray_rectangle_intersection(ray_origin, ray_direction, corners)\n",
    "\n",
    "    raw_rays.append([ray_origin, ray_direction, intersect, intersection])\n",
    "    arrow = get_arrow(ray_origin, vec=ray_direction * 1000)\n",
    "    if intersect:\n",
    "        arrow.paint_uniform_color([1, 0, 0])\n",
    "        rays.append(arrow)\n",
    "    else:\n",
    "        if np.random.uniform(0, 1) > 0.95:\n",
    "            rays.append(arrow)"
   ],
   "metadata": {
    "collapsed": false,
    "ExecuteTime": {
     "end_time": "2024-03-06T21:08:33.198763899Z",
     "start_time": "2024-03-06T21:08:32.680175796Z"
    }
   },
   "id": "94190599a40b3dbc"
  },
  {
   "cell_type": "code",
   "execution_count": null,
   "outputs": [],
   "source": [
    "vislualise = True\n",
    "\n",
    "if vislualise:\n",
    "    # Create a Cartesian Frame of Reference\n",
    "    FOR = get_o3d_FOR()\n",
    "\n",
    "    # Create a PointCloud object\n",
    "    pcd = o3d.geometry.PointCloud()\n",
    "\n",
    "    corners_o3d = o3d.utility.Vector3dVector(corners)\n",
    "\n",
    "    # Convert numpy array to open3d format\n",
    "    pcd.points = corners_o3d\n",
    "\n",
    "    # Define the lines that form the rectangle\n",
    "    lines = [[0, 1], [1, 2], [2, 3], [3, 0]]\n",
    "\n",
    "    # Create a LineSetray_origin = np.array([0, 0, 0])\n",
    "    line_set = o3d.geometry.LineSet()\n",
    "\n",
    "    # Set the points and lines of the line set\n",
    "    line_set.points = o3d.utility.Vector3dVector(corners)\n",
    "    line_set.lines = o3d.utility.Vector2iVector(lines)\n",
    "\n",
    "    # intersected, intersection_point = check_ray_rectangle_intersection(ray_origin, ray_direction, corners)\n",
    "    # print(f\"Intersected: {intersected}, Intersection point: {intersection_point}\")\n",
    "\n",
    "    o3d.visualization.draw_geometries([FOR, pcd, line_set] + rays)"
   ],
   "metadata": {
    "collapsed": false,
    "is_executing": true
   },
   "id": "232900245603972d"
  },
  {
   "cell_type": "code",
   "execution_count": 368,
   "outputs": [],
   "source": [
    "data_pd = pd.DataFrame([],\n",
    "                       columns=['time', 'theta', 'shooter_speed', 'pivot_angle', 'elevator_height', 'x', 'y', 'vx',\n",
    "                                'vy', 'went_in'])"
   ],
   "metadata": {
    "collapsed": false,
    "ExecuteTime": {
     "end_time": "2024-03-01T14:16:34.215667082Z",
     "start_time": "2024-03-01T14:16:34.215064593Z"
    }
   },
   "id": "dfd267d1d5c708e"
  },
  {
   "cell_type": "code",
   "execution_count": 18,
   "outputs": [],
   "source": [
    "def ray_direction_to_angle(direction):\n",
    "    # Extract the x and z components of the ray direction\n",
    "\n",
    "    # Calculate the angle in radians\n",
    "    angle_rad = np.arctan2(direction[2], direction[0])\n",
    "\n",
    "    # Convert the angle to degrees\n",
    "    angle_deg = np.rad2deg(angle_rad)\n",
    "\n",
    "    return 90 - angle_deg\n",
    "\n",
    "\n",
    "def ray_direction_to_pivot_angle(direction):\n",
    "    # Extract the x and z components of the ray direction\n",
    "\n",
    "    # Calculate the angle in radians\n",
    "    angle_rad = np.arctan2(direction[1], direction[2])\n",
    "\n",
    "    # Convert the angle to degrees\n",
    "    angle_deg = np.rad2deg(angle_rad)\n",
    "\n",
    "    if angle_deg < 0:\n",
    "        angle_deg = 360 + angle_deg\n",
    "\n",
    "    return angle_deg"
   ],
   "metadata": {
    "collapsed": false,
    "ExecuteTime": {
     "end_time": "2024-03-05T02:32:25.511741248Z",
     "start_time": "2024-03-05T02:32:25.504662189Z"
    }
   },
   "id": "28643ef0e8ba65ac"
  },
  {
   "cell_type": "code",
   "execution_count": 371,
   "outputs": [],
   "source": [
    "for i, ray in enumerate(raw_rays):\n",
    "    data_pd.loc[i] = [i, ray_direction_to_angle(ray[1]), 5000, ray_direction_to_pivot_angle(ray[1]), 0, ray[0][2],\n",
    "                      ray[0][0], 0, 0, (1 if ray[2] else 0)]"
   ],
   "metadata": {
    "collapsed": false,
    "ExecuteTime": {
     "end_time": "2024-03-01T15:49:42.212994143Z",
     "start_time": "2024-03-01T15:23:27.981616421Z"
    }
   },
   "id": "ebc8f7c61e02db32"
  },
  {
   "cell_type": "code",
   "execution_count": 372,
   "outputs": [],
   "source": [
    "data_pd.to_csv(\"../data/raycasting.csv\", index=False)"
   ],
   "metadata": {
    "collapsed": false,
    "ExecuteTime": {
     "end_time": "2024-03-01T15:49:44.330711292Z",
     "start_time": "2024-03-01T15:49:42.254092357Z"
    }
   },
   "id": "436c1ed95f19dcea"
  }
 ],
 "metadata": {
  "kernelspec": {
   "display_name": "Python 3",
   "language": "python",
   "name": "python3"
  },
  "language_info": {
   "codemirror_mode": {
    "name": "ipython",
    "version": 2
   },
   "file_extension": ".py",
   "mimetype": "text/x-python",
   "name": "python",
   "nbconvert_exporter": "python",
   "pygments_lexer": "ipython2",
   "version": "2.7.6"
  }
 },
 "nbformat": 4,
 "nbformat_minor": 5
}
