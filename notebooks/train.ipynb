{
 "cells": [
  {
   "cell_type": "markdown",
   "source": [
    "# Neural network to predict the outcome of \"note\" shots on FRC team 2713's 2024 robot\n",
    "<img alt=\"a note\" height=\"100\" src=\"https://cdn.andymark.com/product_images/frc-2024-am-4999/6599718c4abebb01304612e9/zoom.jpg\" width=\"100\"/>"
   ],
   "metadata": {
    "collapsed": false
   },
   "id": "e0c26d890c1f095d"
  },
  {
   "cell_type": "markdown",
   "source": [
    "## License\n",
    "\n",
    "```plaintext\n",
    "Copyright 2024 Sidney Trzepacz\n",
    "\n",
    "Permission is hereby granted, free of charge, to any person obtaining a copy of this software and associated documentation files (the “Software”), to deal in the Software without restriction, including without limitation the rights to use, copy, modify, merge, publish, distribute, sublicense, and/or sell copies of the Software, and to permit persons to whom the Software is furnished to do so, subject to the following conditions:\n",
    "\n",
    "The above copyright notice and this permission notice shall be included in all copies or substantial portions of the Software.\n",
    "\n",
    "THE SOFTWARE IS PROVIDED “AS IS”, WITHOUT WARRANTY OF ANY KIND, EXPRESS OR IMPLIED, INCLUDING BUT NOT LIMITED TO THE WARRANTIES OF MERCHANTABILITY, FITNESS FOR A PARTICULAR PURPOSE AND NONINFRINGEMENT. IN NO EVENT SHALL THE AUTHORS OR COPYRIGHT HOLDERS BE LIABLE FOR ANY CLAIM, DAMAGES OR OTHER LIABILITY, WHETHER IN AN ACTION OF CONTRACT, TORT OR OTHERWISE, ARISING FROM, OUT OF OR IN CONNECTION WITH THE SOFTWARE OR THE USE OR OTHER DEALINGS IN THE SOFTWARE.\n",
    "```"
   ],
   "metadata": {
    "collapsed": false
   },
   "id": "cbe43b38caf1d6f2"
  },
  {
   "cell_type": "markdown",
   "source": [
    "## Imports"
   ],
   "metadata": {
    "collapsed": false
   },
   "id": "e374da7b1ee8d72f"
  },
  {
   "cell_type": "code",
   "execution_count": 96,
   "outputs": [],
   "source": [
    "import matplotlib.pyplot as plt\n",
    "import numpy as np\n",
    "import pandas as pd\n",
    "from sklearn.preprocessing import MinMaxScaler\n",
    "import tensorflow as tf\n",
    "from sklearn.model_selection import train_test_split"
   ],
   "metadata": {
    "collapsed": false,
    "ExecuteTime": {
     "end_time": "2024-03-05T02:07:58.915534936Z",
     "start_time": "2024-03-05T02:07:58.867836938Z"
    }
   },
   "id": "6e0cc1a9f5e65c1e"
  },
  {
   "cell_type": "markdown",
   "source": [
    "## Data Loader"
   ],
   "metadata": {
    "collapsed": false
   },
   "id": "664a3e1e1dae6b71"
  },
  {
   "cell_type": "code",
   "execution_count": 97,
   "outputs": [],
   "source": [
    "# Load csv\n",
    "data_pd = pd.read_csv(\"../data/raycasting_normalised_angles.csv\")"
   ],
   "metadata": {
    "collapsed": false,
    "ExecuteTime": {
     "end_time": "2024-03-05T02:08:00.959473294Z",
     "start_time": "2024-03-05T02:08:00.698830575Z"
    }
   },
   "id": "6f08554317a59f06"
  },
  {
   "cell_type": "markdown",
   "source": [
    "## Dataset preprocessing"
   ],
   "metadata": {
    "collapsed": false
   },
   "id": "1ac1dedf83d20327"
  },
  {
   "cell_type": "code",
   "execution_count": 98,
   "outputs": [],
   "source": [
    "data = data_pd.drop(['time', 'shooter_speed', 'elevator_height', 'vx', 'vy'], axis=1)\n",
    "x = np.array(data.drop(['went_in'], axis=1))\n",
    "y = np.array(data.drop(['x', 'y', 'pivot_angle', 'theta'], axis=1))"
   ],
   "metadata": {
    "collapsed": false,
    "ExecuteTime": {
     "end_time": "2024-03-05T02:08:01.824226160Z",
     "start_time": "2024-03-05T02:08:01.800177725Z"
    }
   },
   "id": "d6b7b096c3c805d0"
  },
  {
   "cell_type": "code",
   "execution_count": 99,
   "outputs": [],
   "source": [
    "fld_x_scaler = MinMaxScaler()\n",
    "fld_y_scaler = MinMaxScaler()\n",
    "pivot_angle_scaler = MinMaxScaler()\n",
    "theta_scaler = MinMaxScaler()\n",
    "\n",
    "fld_x = x[:, 2].reshape(-1, 1)\n",
    "fld_y = x[:, 3].reshape(-1, 1)\n",
    "pivot_angle = x[:, 1].reshape(-1, 1)\n",
    "theta = x[:, 0].reshape(-1, 1)"
   ],
   "metadata": {
    "collapsed": false,
    "ExecuteTime": {
     "end_time": "2024-03-05T02:08:03.546869359Z",
     "start_time": "2024-03-05T02:08:03.542424866Z"
    }
   },
   "id": "a6ac0388779bb4a2"
  },
  {
   "cell_type": "code",
   "execution_count": 100,
   "outputs": [],
   "source": [
    "fld_x_scaler.fit(fld_x)\n",
    "fld_y_scaler.fit(fld_y)\n",
    "pivot_angle_scaler.fit(pivot_angle)\n",
    "theta_scaler.fit(theta)\n",
    "\n",
    "x[:, 0] = fld_x_scaler.transform(fld_x).reshape(-1)\n",
    "x[:, 1] = fld_y_scaler.transform(fld_y).reshape(-1)\n",
    "x[:, 2] = pivot_angle_scaler.transform(pivot_angle).reshape(-1)\n",
    "x[:, 3] = theta_scaler.transform(theta).reshape(-1)"
   ],
   "metadata": {
    "collapsed": false,
    "ExecuteTime": {
     "end_time": "2024-03-05T02:08:05.389982375Z",
     "start_time": "2024-03-05T02:08:05.379546094Z"
    }
   },
   "id": "636f16087c852787"
  },
  {
   "cell_type": "code",
   "execution_count": 80,
   "outputs": [],
   "source": [
    "train_ratio = 0.75\n",
    "validation_ratio = 0.15\n",
    "test_ratio = 0.10\n",
    "\n",
    "x_train, x_test, y_train, y_test = train_test_split(x, y, test_size=1 - train_ratio)\n",
    "x_val, x_test, y_val, y_test = train_test_split(x_test, y_test, test_size=test_ratio / (test_ratio + validation_ratio))"
   ],
   "metadata": {
    "collapsed": false,
    "ExecuteTime": {
     "end_time": "2024-03-04T20:48:33.231893951Z",
     "start_time": "2024-03-04T20:48:33.193664190Z"
    }
   },
   "id": "2cf497ec59cbf762"
  },
  {
   "cell_type": "code",
   "execution_count": 81,
   "outputs": [],
   "source": [
    "model = tf.keras.models.Sequential([\n",
    "    tf.keras.layers.Dense(units=16, activation='relu', input_shape=(4,)),\n",
    "    tf.keras.layers.Dense(128, activation='relu'),\n",
    "    tf.keras.layers.Dense(1, activation='sigmoid')\n",
    "])\n",
    "model.compile(\n",
    "    optimizer=tf.keras.optimizers.Adam(0.001),\n",
    "    loss=tf.keras.losses.BinaryCrossentropy(),\n",
    "    metrics=[\"accuracy\"]\n",
    ")"
   ],
   "metadata": {
    "collapsed": false,
    "ExecuteTime": {
     "end_time": "2024-03-04T20:48:34.151510797Z",
     "start_time": "2024-03-04T20:48:34.126407035Z"
    }
   },
   "id": "aa3505abd75b815"
  },
  {
   "cell_type": "code",
   "execution_count": 82,
   "outputs": [
    {
     "name": "stdout",
     "output_type": "stream",
     "text": [
      "Model: \"sequential_1\"\n",
      "_________________________________________________________________\n",
      " Layer (type)                Output Shape              Param #   \n",
      "=================================================================\n",
      " dense_3 (Dense)             (None, 16)                80        \n",
      "                                                                 \n",
      " dense_4 (Dense)             (None, 128)               2176      \n",
      "                                                                 \n",
      " dense_5 (Dense)             (None, 1)                 129       \n",
      "                                                                 \n",
      "=================================================================\n",
      "Total params: 2385 (9.32 KB)\n",
      "Trainable params: 2385 (9.32 KB)\n",
      "Non-trainable params: 0 (0.00 Byte)\n",
      "_________________________________________________________________\n"
     ]
    }
   ],
   "source": [
    "model.summary()"
   ],
   "metadata": {
    "collapsed": false,
    "ExecuteTime": {
     "end_time": "2024-03-04T20:48:35.469265290Z",
     "start_time": "2024-03-04T20:48:35.424018011Z"
    }
   },
   "id": "5cea75c082c7da5d"
  },
  {
   "cell_type": "code",
   "execution_count": 83,
   "outputs": [
    {
     "name": "stdout",
     "output_type": "stream",
     "text": [
      "Epoch 1/200\n",
      "11719/11719 [==============================] - 9s 727us/step - loss: 0.0215 - accuracy: 0.9967 - val_loss: 0.0191 - val_accuracy: 0.9968\n",
      "Epoch 2/200\n",
      "11719/11719 [==============================] - 8s 693us/step - loss: 0.0188 - accuracy: 0.9968 - val_loss: 0.0192 - val_accuracy: 0.9968\n",
      "Epoch 3/200\n",
      "11719/11719 [==============================] - 8s 667us/step - loss: 0.0188 - accuracy: 0.9968 - val_loss: 0.0191 - val_accuracy: 0.9968\n",
      "Epoch 4/200\n",
      "11719/11719 [==============================] - 7s 638us/step - loss: 0.0187 - accuracy: 0.9968 - val_loss: 0.0190 - val_accuracy: 0.9968\n",
      "Epoch 5/200\n",
      "11719/11719 [==============================] - 8s 641us/step - loss: 0.0187 - accuracy: 0.9968 - val_loss: 0.0191 - val_accuracy: 0.9968\n",
      "Epoch 6/200\n",
      "11719/11719 [==============================] - 8s 677us/step - loss: 0.0186 - accuracy: 0.9968 - val_loss: 0.0198 - val_accuracy: 0.9968\n",
      "Epoch 7/200\n",
      "11719/11719 [==============================] - 8s 645us/step - loss: 0.0186 - accuracy: 0.9968 - val_loss: 0.0191 - val_accuracy: 0.9968\n",
      "Epoch 8/200\n",
      "11719/11719 [==============================] - 7s 635us/step - loss: 0.0186 - accuracy: 0.9968 - val_loss: 0.0189 - val_accuracy: 0.9968\n",
      "Epoch 9/200\n",
      "11719/11719 [==============================] - 7s 633us/step - loss: 0.0186 - accuracy: 0.9968 - val_loss: 0.0195 - val_accuracy: 0.9968\n",
      "Epoch 10/200\n",
      "11719/11719 [==============================] - 8s 661us/step - loss: 0.0186 - accuracy: 0.9968 - val_loss: 0.0190 - val_accuracy: 0.9968\n",
      "Epoch 11/200\n",
      "11719/11719 [==============================] - 9s 810us/step - loss: 0.0186 - accuracy: 0.9968 - val_loss: 0.0191 - val_accuracy: 0.9968\n",
      "Epoch 12/200\n",
      "11719/11719 [==============================] - 12s 1ms/step - loss: 0.0186 - accuracy: 0.9968 - val_loss: 0.0192 - val_accuracy: 0.9968\n",
      "Epoch 13/200\n",
      "11719/11719 [==============================] - 12s 1ms/step - loss: 0.0186 - accuracy: 0.9968 - val_loss: 0.0190 - val_accuracy: 0.9968\n",
      "Epoch 14/200\n",
      "11719/11719 [==============================] - 11s 958us/step - loss: 0.0186 - accuracy: 0.9968 - val_loss: 0.0189 - val_accuracy: 0.9968\n",
      "Epoch 15/200\n",
      "11719/11719 [==============================] - 10s 826us/step - loss: 0.0185 - accuracy: 0.9968 - val_loss: 0.0188 - val_accuracy: 0.9968\n",
      "Epoch 16/200\n",
      "11719/11719 [==============================] - 10s 832us/step - loss: 0.0186 - accuracy: 0.9968 - val_loss: 0.0188 - val_accuracy: 0.9968\n",
      "Epoch 17/200\n",
      "11719/11719 [==============================] - 9s 802us/step - loss: 0.0186 - accuracy: 0.9968 - val_loss: 0.0190 - val_accuracy: 0.9968\n",
      "Epoch 18/200\n",
      "11719/11719 [==============================] - 9s 767us/step - loss: 0.0185 - accuracy: 0.9968 - val_loss: 0.0189 - val_accuracy: 0.9968\n",
      "Epoch 19/200\n",
      "11719/11719 [==============================] - 9s 801us/step - loss: 0.0185 - accuracy: 0.9968 - val_loss: 0.0191 - val_accuracy: 0.9968\n",
      "Epoch 20/200\n",
      "11719/11719 [==============================] - 9s 799us/step - loss: 0.0185 - accuracy: 0.9968 - val_loss: 0.0190 - val_accuracy: 0.9968\n",
      "Epoch 21/200\n",
      "11719/11719 [==============================] - 9s 810us/step - loss: 0.0185 - accuracy: 0.9968 - val_loss: 0.0188 - val_accuracy: 0.9968\n",
      "Epoch 22/200\n",
      "11719/11719 [==============================] - 9s 783us/step - loss: 0.0185 - accuracy: 0.9968 - val_loss: 0.0188 - val_accuracy: 0.9968\n",
      "Epoch 23/200\n",
      "11719/11719 [==============================] - 10s 815us/step - loss: 0.0185 - accuracy: 0.9968 - val_loss: 0.0189 - val_accuracy: 0.9968\n",
      "Epoch 24/200\n",
      "11719/11719 [==============================] - 10s 820us/step - loss: 0.0185 - accuracy: 0.9968 - val_loss: 0.0188 - val_accuracy: 0.9968\n",
      "Epoch 25/200\n",
      "11719/11719 [==============================] - 12s 1ms/step - loss: 0.0185 - accuracy: 0.9968 - val_loss: 0.0188 - val_accuracy: 0.9968\n",
      "Epoch 26/200\n",
      "11719/11719 [==============================] - 10s 874us/step - loss: 0.0185 - accuracy: 0.9968 - val_loss: 0.0188 - val_accuracy: 0.9968\n",
      "Epoch 27/200\n",
      "11719/11719 [==============================] - 9s 789us/step - loss: 0.0185 - accuracy: 0.9968 - val_loss: 0.0189 - val_accuracy: 0.9968\n",
      "Epoch 28/200\n",
      "11719/11719 [==============================] - 9s 793us/step - loss: 0.0185 - accuracy: 0.9968 - val_loss: 0.0190 - val_accuracy: 0.9968\n",
      "Epoch 29/200\n",
      "11719/11719 [==============================] - 10s 828us/step - loss: 0.0185 - accuracy: 0.9968 - val_loss: 0.0189 - val_accuracy: 0.9968\n",
      "Epoch 30/200\n",
      "11719/11719 [==============================] - 10s 824us/step - loss: 0.0185 - accuracy: 0.9968 - val_loss: 0.0189 - val_accuracy: 0.9968\n",
      "Epoch 31/200\n",
      "11719/11719 [==============================] - 9s 782us/step - loss: 0.0185 - accuracy: 0.9968 - val_loss: 0.0191 - val_accuracy: 0.9968\n",
      "Epoch 32/200\n",
      "11719/11719 [==============================] - 9s 802us/step - loss: 0.0185 - accuracy: 0.9968 - val_loss: 0.0191 - val_accuracy: 0.9968\n",
      "Epoch 33/200\n",
      "11719/11719 [==============================] - 9s 807us/step - loss: 0.0185 - accuracy: 0.9968 - val_loss: 0.0188 - val_accuracy: 0.9968\n",
      "Epoch 34/200\n",
      "11719/11719 [==============================] - 9s 784us/step - loss: 0.0185 - accuracy: 0.9968 - val_loss: 0.0188 - val_accuracy: 0.9968\n",
      "Epoch 35/200\n",
      "11719/11719 [==============================] - 11s 906us/step - loss: 0.0185 - accuracy: 0.9968 - val_loss: 0.0188 - val_accuracy: 0.9968\n",
      "Epoch 36/200\n",
      "11719/11719 [==============================] - 9s 791us/step - loss: 0.0185 - accuracy: 0.9968 - val_loss: 0.0189 - val_accuracy: 0.9968\n",
      "Epoch 37/200\n",
      "11719/11719 [==============================] - 10s 817us/step - loss: 0.0185 - accuracy: 0.9968 - val_loss: 0.0188 - val_accuracy: 0.9968\n",
      "Epoch 38/200\n",
      "11719/11719 [==============================] - 10s 815us/step - loss: 0.0185 - accuracy: 0.9968 - val_loss: 0.0189 - val_accuracy: 0.9968\n",
      "Epoch 39/200\n",
      "11719/11719 [==============================] - 10s 884us/step - loss: 0.0185 - accuracy: 0.9968 - val_loss: 0.0188 - val_accuracy: 0.9968\n",
      "Epoch 40/200\n",
      "11719/11719 [==============================] - 10s 820us/step - loss: 0.0185 - accuracy: 0.9968 - val_loss: 0.0188 - val_accuracy: 0.9968\n",
      "Epoch 41/200\n",
      "11719/11719 [==============================] - 10s 830us/step - loss: 0.0185 - accuracy: 0.9968 - val_loss: 0.0188 - val_accuracy: 0.9968\n",
      "Epoch 42/200\n",
      "11719/11719 [==============================] - 10s 886us/step - loss: 0.0185 - accuracy: 0.9968 - val_loss: 0.0188 - val_accuracy: 0.9968\n",
      "Epoch 43/200\n",
      "11719/11719 [==============================] - 12s 1ms/step - loss: 0.0185 - accuracy: 0.9968 - val_loss: 0.0187 - val_accuracy: 0.9968\n",
      "Epoch 44/200\n",
      "11719/11719 [==============================] - 10s 817us/step - loss: 0.0185 - accuracy: 0.9968 - val_loss: 0.0188 - val_accuracy: 0.9968\n",
      "Epoch 45/200\n",
      "11719/11719 [==============================] - 10s 876us/step - loss: 0.0185 - accuracy: 0.9968 - val_loss: 0.0188 - val_accuracy: 0.9968\n",
      "Epoch 46/200\n",
      "11719/11719 [==============================] - 10s 815us/step - loss: 0.0185 - accuracy: 0.9968 - val_loss: 0.0190 - val_accuracy: 0.9968\n",
      "Epoch 47/200\n",
      "11719/11719 [==============================] - 10s 842us/step - loss: 0.0185 - accuracy: 0.9968 - val_loss: 0.0188 - val_accuracy: 0.9968\n",
      "Epoch 48/200\n",
      "11719/11719 [==============================] - 10s 811us/step - loss: 0.0185 - accuracy: 0.9968 - val_loss: 0.0188 - val_accuracy: 0.9968\n",
      "Epoch 49/200\n",
      "11719/11719 [==============================] - 11s 905us/step - loss: 0.0185 - accuracy: 0.9968 - val_loss: 0.0189 - val_accuracy: 0.9968\n",
      "Epoch 50/200\n",
      "11719/11719 [==============================] - 10s 874us/step - loss: 0.0185 - accuracy: 0.9968 - val_loss: 0.0189 - val_accuracy: 0.9968\n",
      "Epoch 51/200\n",
      "11719/11719 [==============================] - 10s 848us/step - loss: 0.0185 - accuracy: 0.9968 - val_loss: 0.0188 - val_accuracy: 0.9968\n",
      "Epoch 52/200\n",
      "11719/11719 [==============================] - 9s 785us/step - loss: 0.0185 - accuracy: 0.9968 - val_loss: 0.0188 - val_accuracy: 0.9968\n",
      "Epoch 53/200\n",
      "11719/11719 [==============================] - 10s 816us/step - loss: 0.0185 - accuracy: 0.9968 - val_loss: 0.0188 - val_accuracy: 0.9968\n",
      "Epoch 54/200\n",
      "11719/11719 [==============================] - 11s 925us/step - loss: 0.0185 - accuracy: 0.9968 - val_loss: 0.0187 - val_accuracy: 0.9968\n",
      "Epoch 55/200\n",
      "11719/11719 [==============================] - 10s 876us/step - loss: 0.0185 - accuracy: 0.9968 - val_loss: 0.0187 - val_accuracy: 0.9968\n",
      "Epoch 56/200\n",
      "11719/11719 [==============================] - 10s 864us/step - loss: 0.0185 - accuracy: 0.9968 - val_loss: 0.0189 - val_accuracy: 0.9968\n",
      "Epoch 57/200\n",
      "11719/11719 [==============================] - 12s 1ms/step - loss: 0.0185 - accuracy: 0.9968 - val_loss: 0.0188 - val_accuracy: 0.9968\n",
      "Epoch 58/200\n",
      "11719/11719 [==============================] - 10s 814us/step - loss: 0.0185 - accuracy: 0.9968 - val_loss: 0.0188 - val_accuracy: 0.9968\n",
      "Epoch 59/200\n",
      "11719/11719 [==============================] - 11s 946us/step - loss: 0.0184 - accuracy: 0.9968 - val_loss: 0.0189 - val_accuracy: 0.9968\n",
      "Epoch 60/200\n",
      "11719/11719 [==============================] - 10s 846us/step - loss: 0.0184 - accuracy: 0.9968 - val_loss: 0.0188 - val_accuracy: 0.9968\n",
      "Epoch 61/200\n",
      "11719/11719 [==============================] - 10s 847us/step - loss: 0.0185 - accuracy: 0.9968 - val_loss: 0.0190 - val_accuracy: 0.9968\n",
      "Epoch 62/200\n",
      "11719/11719 [==============================] - 9s 798us/step - loss: 0.0185 - accuracy: 0.9968 - val_loss: 0.0192 - val_accuracy: 0.9968\n",
      "Epoch 63/200\n",
      "11719/11719 [==============================] - 10s 852us/step - loss: 0.0185 - accuracy: 0.9968 - val_loss: 0.0192 - val_accuracy: 0.9968\n",
      "Epoch 64/200\n",
      "11719/11719 [==============================] - 9s 796us/step - loss: 0.0184 - accuracy: 0.9968 - val_loss: 0.0188 - val_accuracy: 0.9968\n",
      "Epoch 65/200\n",
      "11719/11719 [==============================] - 10s 839us/step - loss: 0.0185 - accuracy: 0.9968 - val_loss: 0.0188 - val_accuracy: 0.9968\n",
      "Epoch 66/200\n",
      "11719/11719 [==============================] - 10s 831us/step - loss: 0.0184 - accuracy: 0.9968 - val_loss: 0.0189 - val_accuracy: 0.9968\n",
      "Epoch 67/200\n",
      "11719/11719 [==============================] - 11s 913us/step - loss: 0.0185 - accuracy: 0.9968 - val_loss: 0.0188 - val_accuracy: 0.9968\n",
      "Epoch 68/200\n",
      "11719/11719 [==============================] - 10s 883us/step - loss: 0.0185 - accuracy: 0.9968 - val_loss: 0.0189 - val_accuracy: 0.9968\n",
      "Epoch 69/200\n",
      "11719/11719 [==============================] - 10s 893us/step - loss: 0.0184 - accuracy: 0.9968 - val_loss: 0.0188 - val_accuracy: 0.9968\n",
      "Epoch 70/200\n",
      "11719/11719 [==============================] - 10s 867us/step - loss: 0.0184 - accuracy: 0.9968 - val_loss: 0.0193 - val_accuracy: 0.9968\n",
      "Epoch 71/200\n",
      "11719/11719 [==============================] - 10s 833us/step - loss: 0.0185 - accuracy: 0.9968 - val_loss: 0.0188 - val_accuracy: 0.9968\n",
      "Epoch 72/200\n",
      "11719/11719 [==============================] - 10s 850us/step - loss: 0.0185 - accuracy: 0.9968 - val_loss: 0.0188 - val_accuracy: 0.9968\n",
      "Epoch 73/200\n",
      "11719/11719 [==============================] - 9s 782us/step - loss: 0.0185 - accuracy: 0.9968 - val_loss: 0.0188 - val_accuracy: 0.9968\n",
      "Epoch 74/200\n",
      "11719/11719 [==============================] - 9s 805us/step - loss: 0.0185 - accuracy: 0.9968 - val_loss: 0.0188 - val_accuracy: 0.9968\n",
      "Epoch 75/200\n",
      "11719/11719 [==============================] - 10s 855us/step - loss: 0.0185 - accuracy: 0.9968 - val_loss: 0.0188 - val_accuracy: 0.9968\n",
      "Epoch 76/200\n",
      "11719/11719 [==============================] - 9s 799us/step - loss: 0.0185 - accuracy: 0.9968 - val_loss: 0.0188 - val_accuracy: 0.9968\n",
      "Epoch 77/200\n",
      "11719/11719 [==============================] - 10s 824us/step - loss: 0.0185 - accuracy: 0.9968 - val_loss: 0.0189 - val_accuracy: 0.9968\n",
      "Epoch 78/200\n",
      "11719/11719 [==============================] - 12s 1ms/step - loss: 0.0185 - accuracy: 0.9968 - val_loss: 0.0189 - val_accuracy: 0.9968\n",
      "Epoch 79/200\n",
      "11719/11719 [==============================] - 12s 986us/step - loss: 0.0185 - accuracy: 0.9968 - val_loss: 0.0188 - val_accuracy: 0.9968\n",
      "Epoch 80/200\n",
      "11719/11719 [==============================] - 10s 813us/step - loss: 0.0184 - accuracy: 0.9968 - val_loss: 0.0188 - val_accuracy: 0.9968\n",
      "Epoch 81/200\n",
      "11719/11719 [==============================] - 10s 825us/step - loss: 0.0184 - accuracy: 0.9968 - val_loss: 0.0189 - val_accuracy: 0.9968\n",
      "Epoch 82/200\n",
      "11719/11719 [==============================] - 10s 819us/step - loss: 0.0185 - accuracy: 0.9968 - val_loss: 0.0189 - val_accuracy: 0.9968\n",
      "Epoch 83/200\n",
      "11719/11719 [==============================] - 11s 962us/step - loss: 0.0185 - accuracy: 0.9968 - val_loss: 0.0188 - val_accuracy: 0.9968\n",
      "Epoch 84/200\n",
      "11719/11719 [==============================] - 11s 900us/step - loss: 0.0185 - accuracy: 0.9968 - val_loss: 0.0188 - val_accuracy: 0.9968\n",
      "Epoch 85/200\n",
      "11719/11719 [==============================] - 11s 898us/step - loss: 0.0184 - accuracy: 0.9968 - val_loss: 0.0189 - val_accuracy: 0.9968\n",
      "Epoch 86/200\n",
      "11719/11719 [==============================] - 10s 874us/step - loss: 0.0185 - accuracy: 0.9968 - val_loss: 0.0188 - val_accuracy: 0.9968\n",
      "Epoch 87/200\n",
      "11719/11719 [==============================] - 10s 862us/step - loss: 0.0185 - accuracy: 0.9968 - val_loss: 0.0190 - val_accuracy: 0.9968\n",
      "Epoch 88/200\n",
      "11719/11719 [==============================] - 10s 855us/step - loss: 0.0185 - accuracy: 0.9968 - val_loss: 0.0188 - val_accuracy: 0.9968\n",
      "Epoch 89/200\n",
      "11719/11719 [==============================] - 9s 809us/step - loss: 0.0185 - accuracy: 0.9968 - val_loss: 0.0189 - val_accuracy: 0.9968\n",
      "Epoch 90/200\n",
      "11719/11719 [==============================] - 9s 802us/step - loss: 0.0185 - accuracy: 0.9968 - val_loss: 0.0188 - val_accuracy: 0.9968\n",
      "Epoch 91/200\n",
      "11719/11719 [==============================] - 9s 798us/step - loss: 0.0185 - accuracy: 0.9968 - val_loss: 0.0189 - val_accuracy: 0.9968\n",
      "Epoch 92/200\n",
      "11719/11719 [==============================] - 10s 833us/step - loss: 0.0185 - accuracy: 0.9968 - val_loss: 0.0188 - val_accuracy: 0.9968\n",
      "Epoch 93/200\n",
      "11719/11719 [==============================] - 9s 808us/step - loss: 0.0185 - accuracy: 0.9968 - val_loss: 0.0187 - val_accuracy: 0.9968\n",
      "Epoch 94/200\n",
      "11719/11719 [==============================] - 10s 832us/step - loss: 0.0185 - accuracy: 0.9968 - val_loss: 0.0189 - val_accuracy: 0.9968\n",
      "Epoch 95/200\n",
      "11719/11719 [==============================] - 11s 964us/step - loss: 0.0184 - accuracy: 0.9968 - val_loss: 0.0188 - val_accuracy: 0.9968\n",
      "Epoch 96/200\n",
      "11719/11719 [==============================] - 11s 940us/step - loss: 0.0185 - accuracy: 0.9968 - val_loss: 0.0193 - val_accuracy: 0.9968\n",
      "Epoch 97/200\n",
      "11719/11719 [==============================] - 10s 824us/step - loss: 0.0184 - accuracy: 0.9968 - val_loss: 0.0188 - val_accuracy: 0.9968\n",
      "Epoch 98/200\n",
      "11719/11719 [==============================] - 11s 921us/step - loss: 0.0184 - accuracy: 0.9968 - val_loss: 0.0189 - val_accuracy: 0.9968\n",
      "Epoch 99/200\n",
      "11719/11719 [==============================] - 10s 820us/step - loss: 0.0184 - accuracy: 0.9968 - val_loss: 0.0187 - val_accuracy: 0.9968\n",
      "Epoch 100/200\n",
      "11719/11719 [==============================] - 10s 813us/step - loss: 0.0185 - accuracy: 0.9968 - val_loss: 0.0188 - val_accuracy: 0.9968\n",
      "Epoch 101/200\n",
      "11719/11719 [==============================] - 9s 789us/step - loss: 0.0185 - accuracy: 0.9968 - val_loss: 0.0187 - val_accuracy: 0.9968\n",
      "Epoch 102/200\n",
      "11719/11719 [==============================] - 9s 801us/step - loss: 0.0184 - accuracy: 0.9968 - val_loss: 0.0191 - val_accuracy: 0.9968\n",
      "Epoch 103/200\n",
      "11719/11719 [==============================] - 10s 821us/step - loss: 0.0185 - accuracy: 0.9968 - val_loss: 0.0188 - val_accuracy: 0.9968\n",
      "Epoch 104/200\n",
      "11719/11719 [==============================] - 10s 812us/step - loss: 0.0185 - accuracy: 0.9968 - val_loss: 0.0190 - val_accuracy: 0.9968\n",
      "Epoch 105/200\n",
      "11719/11719 [==============================] - 10s 829us/step - loss: 0.0185 - accuracy: 0.9968 - val_loss: 0.0187 - val_accuracy: 0.9968\n",
      "Epoch 106/200\n",
      "11719/11719 [==============================] - 10s 813us/step - loss: 0.0185 - accuracy: 0.9968 - val_loss: 0.0187 - val_accuracy: 0.9968\n",
      "Epoch 107/200\n",
      "11719/11719 [==============================] - 9s 787us/step - loss: 0.0184 - accuracy: 0.9968 - val_loss: 0.0188 - val_accuracy: 0.9968\n",
      "Epoch 108/200\n",
      "11719/11719 [==============================] - 10s 828us/step - loss: 0.0184 - accuracy: 0.9968 - val_loss: 0.0188 - val_accuracy: 0.9968\n",
      "Epoch 109/200\n",
      "11719/11719 [==============================] - 9s 790us/step - loss: 0.0185 - accuracy: 0.9968 - val_loss: 0.0187 - val_accuracy: 0.9968\n",
      "Epoch 110/200\n",
      "11719/11719 [==============================] - 9s 805us/step - loss: 0.0184 - accuracy: 0.9968 - val_loss: 0.0188 - val_accuracy: 0.9968\n",
      "Epoch 111/200\n",
      "11719/11719 [==============================] - 10s 847us/step - loss: 0.0185 - accuracy: 0.9968 - val_loss: 0.0188 - val_accuracy: 0.9968\n",
      "Epoch 112/200\n",
      "11719/11719 [==============================] - 10s 814us/step - loss: 0.0184 - accuracy: 0.9968 - val_loss: 0.0187 - val_accuracy: 0.9968\n",
      "Epoch 113/200\n",
      "11719/11719 [==============================] - 10s 832us/step - loss: 0.0184 - accuracy: 0.9968 - val_loss: 0.0188 - val_accuracy: 0.9968\n",
      "Epoch 114/200\n",
      "11719/11719 [==============================] - 9s 797us/step - loss: 0.0184 - accuracy: 0.9968 - val_loss: 0.0188 - val_accuracy: 0.9968\n",
      "Epoch 115/200\n",
      "11719/11719 [==============================] - 9s 788us/step - loss: 0.0185 - accuracy: 0.9968 - val_loss: 0.0187 - val_accuracy: 0.9968\n",
      "Epoch 116/200\n",
      "11719/11719 [==============================] - 10s 814us/step - loss: 0.0185 - accuracy: 0.9968 - val_loss: 0.0187 - val_accuracy: 0.9968\n",
      "Epoch 117/200\n",
      "11719/11719 [==============================] - 10s 813us/step - loss: 0.0184 - accuracy: 0.9968 - val_loss: 0.0187 - val_accuracy: 0.9968\n",
      "Epoch 118/200\n",
      "11719/11719 [==============================] - 10s 827us/step - loss: 0.0184 - accuracy: 0.9968 - val_loss: 0.0188 - val_accuracy: 0.9968\n",
      "Epoch 119/200\n",
      "11719/11719 [==============================] - 9s 800us/step - loss: 0.0185 - accuracy: 0.9968 - val_loss: 0.0188 - val_accuracy: 0.9968\n",
      "Epoch 120/200\n",
      "11719/11719 [==============================] - 9s 807us/step - loss: 0.0184 - accuracy: 0.9968 - val_loss: 0.0189 - val_accuracy: 0.9968\n",
      "Epoch 121/200\n",
      "11719/11719 [==============================] - 10s 849us/step - loss: 0.0184 - accuracy: 0.9968 - val_loss: 0.0188 - val_accuracy: 0.9968\n",
      "Epoch 122/200\n",
      "11719/11719 [==============================] - 9s 801us/step - loss: 0.0185 - accuracy: 0.9968 - val_loss: 0.0188 - val_accuracy: 0.9968\n",
      "Epoch 123/200\n",
      "11719/11719 [==============================] - 12s 1ms/step - loss: 0.0185 - accuracy: 0.9968 - val_loss: 0.0188 - val_accuracy: 0.9968\n",
      "Epoch 124/200\n",
      "11719/11719 [==============================] - 10s 843us/step - loss: 0.0184 - accuracy: 0.9968 - val_loss: 0.0188 - val_accuracy: 0.9968\n",
      "Epoch 125/200\n",
      "11719/11719 [==============================] - 10s 874us/step - loss: 0.0184 - accuracy: 0.9968 - val_loss: 0.0188 - val_accuracy: 0.9968\n",
      "Epoch 126/200\n",
      "11719/11719 [==============================] - 10s 867us/step - loss: 0.0185 - accuracy: 0.9968 - val_loss: 0.0187 - val_accuracy: 0.9968\n",
      "Epoch 127/200\n",
      "11719/11719 [==============================] - 10s 872us/step - loss: 0.0184 - accuracy: 0.9968 - val_loss: 0.0188 - val_accuracy: 0.9968\n",
      "Epoch 128/200\n",
      "11719/11719 [==============================] - 11s 909us/step - loss: 0.0184 - accuracy: 0.9968 - val_loss: 0.0194 - val_accuracy: 0.9968\n",
      "Epoch 129/200\n",
      "11719/11719 [==============================] - 10s 832us/step - loss: 0.0185 - accuracy: 0.9968 - val_loss: 0.0189 - val_accuracy: 0.9968\n",
      "Epoch 130/200\n",
      "11719/11719 [==============================] - 10s 866us/step - loss: 0.0184 - accuracy: 0.9968 - val_loss: 0.0187 - val_accuracy: 0.9968\n",
      "Epoch 131/200\n",
      "11719/11719 [==============================] - 10s 857us/step - loss: 0.0185 - accuracy: 0.9968 - val_loss: 0.0188 - val_accuracy: 0.9968\n",
      "Epoch 132/200\n",
      "11719/11719 [==============================] - 10s 822us/step - loss: 0.0184 - accuracy: 0.9968 - val_loss: 0.0190 - val_accuracy: 0.9968\n",
      "Epoch 133/200\n",
      "11719/11719 [==============================] - 10s 845us/step - loss: 0.0185 - accuracy: 0.9968 - val_loss: 0.0188 - val_accuracy: 0.9968\n",
      "Epoch 134/200\n",
      "11719/11719 [==============================] - 10s 840us/step - loss: 0.0185 - accuracy: 0.9968 - val_loss: 0.0188 - val_accuracy: 0.9968\n",
      "Epoch 135/200\n",
      "11719/11719 [==============================] - 10s 860us/step - loss: 0.0184 - accuracy: 0.9968 - val_loss: 0.0189 - val_accuracy: 0.9968\n",
      "Epoch 136/200\n",
      "11719/11719 [==============================] - 10s 846us/step - loss: 0.0185 - accuracy: 0.9968 - val_loss: 0.0188 - val_accuracy: 0.9968\n",
      "Epoch 137/200\n",
      "11719/11719 [==============================] - 11s 896us/step - loss: 0.0185 - accuracy: 0.9968 - val_loss: 0.0188 - val_accuracy: 0.9968\n",
      "Epoch 138/200\n",
      "11719/11719 [==============================] - 11s 919us/step - loss: 0.0184 - accuracy: 0.9968 - val_loss: 0.0188 - val_accuracy: 0.9968\n",
      "Epoch 139/200\n",
      "11719/11719 [==============================] - 10s 848us/step - loss: 0.0184 - accuracy: 0.9968 - val_loss: 0.0188 - val_accuracy: 0.9968\n",
      "Epoch 140/200\n",
      "11719/11719 [==============================] - 9s 810us/step - loss: 0.0184 - accuracy: 0.9968 - val_loss: 0.0189 - val_accuracy: 0.9968\n",
      "Epoch 141/200\n",
      "11719/11719 [==============================] - 10s 814us/step - loss: 0.0185 - accuracy: 0.9968 - val_loss: 0.0189 - val_accuracy: 0.9968\n",
      "Epoch 142/200\n",
      "11719/11719 [==============================] - 11s 967us/step - loss: 0.0185 - accuracy: 0.9968 - val_loss: 0.0188 - val_accuracy: 0.9968\n",
      "Epoch 143/200\n",
      "11719/11719 [==============================] - 10s 821us/step - loss: 0.0184 - accuracy: 0.9968 - val_loss: 0.0190 - val_accuracy: 0.9968\n",
      "Epoch 144/200\n",
      "11719/11719 [==============================] - 10s 882us/step - loss: 0.0185 - accuracy: 0.9968 - val_loss: 0.0189 - val_accuracy: 0.9968\n",
      "Epoch 145/200\n",
      "11719/11719 [==============================] - 9s 808us/step - loss: 0.0185 - accuracy: 0.9968 - val_loss: 0.0190 - val_accuracy: 0.9968\n",
      "Epoch 146/200\n",
      "11719/11719 [==============================] - 10s 875us/step - loss: 0.0185 - accuracy: 0.9968 - val_loss: 0.0188 - val_accuracy: 0.9968\n",
      "Epoch 147/200\n",
      "11719/11719 [==============================] - 10s 885us/step - loss: 0.0184 - accuracy: 0.9968 - val_loss: 0.0189 - val_accuracy: 0.9968\n",
      "Epoch 148/200\n",
      "11719/11719 [==============================] - 10s 844us/step - loss: 0.0185 - accuracy: 0.9968 - val_loss: 0.0188 - val_accuracy: 0.9968\n",
      "Epoch 149/200\n",
      "11719/11719 [==============================] - 10s 865us/step - loss: 0.0185 - accuracy: 0.9968 - val_loss: 0.0190 - val_accuracy: 0.9968\n",
      "Epoch 150/200\n",
      "11719/11719 [==============================] - 10s 850us/step - loss: 0.0185 - accuracy: 0.9968 - val_loss: 0.0189 - val_accuracy: 0.9968\n",
      "Epoch 151/200\n",
      "11719/11719 [==============================] - 11s 966us/step - loss: 0.0184 - accuracy: 0.9968 - val_loss: 0.0188 - val_accuracy: 0.9968\n",
      "Epoch 152/200\n",
      "11719/11719 [==============================] - 12s 995us/step - loss: 0.0184 - accuracy: 0.9968 - val_loss: 0.0189 - val_accuracy: 0.9968\n",
      "Epoch 153/200\n",
      "11719/11719 [==============================] - 11s 976us/step - loss: 0.0185 - accuracy: 0.9968 - val_loss: 0.0189 - val_accuracy: 0.9968\n",
      "Epoch 154/200\n",
      "11719/11719 [==============================] - 9s 799us/step - loss: 0.0185 - accuracy: 0.9968 - val_loss: 0.0189 - val_accuracy: 0.9968\n",
      "Epoch 155/200\n",
      "11719/11719 [==============================] - 9s 796us/step - loss: 0.0185 - accuracy: 0.9968 - val_loss: 0.0189 - val_accuracy: 0.9968\n",
      "Epoch 156/200\n",
      "11719/11719 [==============================] - 9s 795us/step - loss: 0.0184 - accuracy: 0.9968 - val_loss: 0.0188 - val_accuracy: 0.9968\n",
      "Epoch 157/200\n",
      "11719/11719 [==============================] - 10s 817us/step - loss: 0.0184 - accuracy: 0.9968 - val_loss: 0.0190 - val_accuracy: 0.9968\n",
      "Epoch 158/200\n",
      "11719/11719 [==============================] - 10s 816us/step - loss: 0.0185 - accuracy: 0.9968 - val_loss: 0.0188 - val_accuracy: 0.9968\n",
      "Epoch 159/200\n",
      "11719/11719 [==============================] - 10s 823us/step - loss: 0.0184 - accuracy: 0.9968 - val_loss: 0.0191 - val_accuracy: 0.9968\n",
      "Epoch 160/200\n",
      "11719/11719 [==============================] - 9s 803us/step - loss: 0.0185 - accuracy: 0.9968 - val_loss: 0.0189 - val_accuracy: 0.9968\n",
      "Epoch 161/200\n",
      "11719/11719 [==============================] - 9s 798us/step - loss: 0.0184 - accuracy: 0.9968 - val_loss: 0.0189 - val_accuracy: 0.9968\n",
      "Epoch 162/200\n",
      "11719/11719 [==============================] - 9s 801us/step - loss: 0.0184 - accuracy: 0.9968 - val_loss: 0.0192 - val_accuracy: 0.9968\n",
      "Epoch 163/200\n",
      "11719/11719 [==============================] - 9s 795us/step - loss: 0.0184 - accuracy: 0.9968 - val_loss: 0.0188 - val_accuracy: 0.9968\n",
      "Epoch 164/200\n",
      "11719/11719 [==============================] - 10s 811us/step - loss: 0.0184 - accuracy: 0.9968 - val_loss: 0.0188 - val_accuracy: 0.9968\n",
      "Epoch 165/200\n",
      "11719/11719 [==============================] - 9s 810us/step - loss: 0.0184 - accuracy: 0.9968 - val_loss: 0.0189 - val_accuracy: 0.9968\n",
      "Epoch 166/200\n",
      "11719/11719 [==============================] - 10s 820us/step - loss: 0.0184 - accuracy: 0.9968 - val_loss: 0.0188 - val_accuracy: 0.9968\n",
      "Epoch 167/200\n",
      "11719/11719 [==============================] - 9s 795us/step - loss: 0.0185 - accuracy: 0.9968 - val_loss: 0.0189 - val_accuracy: 0.9968\n",
      "Epoch 168/200\n",
      "11719/11719 [==============================] - 9s 799us/step - loss: 0.0185 - accuracy: 0.9968 - val_loss: 0.0190 - val_accuracy: 0.9968\n",
      "Epoch 169/200\n",
      "11719/11719 [==============================] - 9s 805us/step - loss: 0.0184 - accuracy: 0.9968 - val_loss: 0.0190 - val_accuracy: 0.9968\n",
      "Epoch 170/200\n",
      "11719/11719 [==============================] - 10s 818us/step - loss: 0.0185 - accuracy: 0.9968 - val_loss: 0.0189 - val_accuracy: 0.9968\n",
      "Epoch 171/200\n",
      "11719/11719 [==============================] - 10s 824us/step - loss: 0.0184 - accuracy: 0.9968 - val_loss: 0.0188 - val_accuracy: 0.9968\n",
      "Epoch 172/200\n",
      "11719/11719 [==============================] - 10s 828us/step - loss: 0.0185 - accuracy: 0.9968 - val_loss: 0.0189 - val_accuracy: 0.9968\n",
      "Epoch 173/200\n",
      "11719/11719 [==============================] - 10s 830us/step - loss: 0.0185 - accuracy: 0.9968 - val_loss: 0.0190 - val_accuracy: 0.9968\n",
      "Epoch 174/200\n",
      "11719/11719 [==============================] - 11s 966us/step - loss: 0.0184 - accuracy: 0.9968 - val_loss: 0.0188 - val_accuracy: 0.9968\n",
      "Epoch 175/200\n",
      "11719/11719 [==============================] - 10s 863us/step - loss: 0.0184 - accuracy: 0.9968 - val_loss: 0.0188 - val_accuracy: 0.9968\n",
      "Epoch 176/200\n",
      "11719/11719 [==============================] - 10s 812us/step - loss: 0.0184 - accuracy: 0.9968 - val_loss: 0.0188 - val_accuracy: 0.9968\n",
      "Epoch 177/200\n",
      "11719/11719 [==============================] - 10s 846us/step - loss: 0.0184 - accuracy: 0.9968 - val_loss: 0.0188 - val_accuracy: 0.9968\n",
      "Epoch 178/200\n",
      "11719/11719 [==============================] - 10s 812us/step - loss: 0.0184 - accuracy: 0.9968 - val_loss: 0.0191 - val_accuracy: 0.9968\n",
      "Epoch 179/200\n",
      "11719/11719 [==============================] - 10s 835us/step - loss: 0.0184 - accuracy: 0.9968 - val_loss: 0.0198 - val_accuracy: 0.9968\n",
      "Epoch 180/200\n",
      "11719/11719 [==============================] - 10s 821us/step - loss: 0.0184 - accuracy: 0.9968 - val_loss: 0.0193 - val_accuracy: 0.9968\n",
      "Epoch 181/200\n",
      "11719/11719 [==============================] - 10s 827us/step - loss: 0.0185 - accuracy: 0.9968 - val_loss: 0.0190 - val_accuracy: 0.9968\n",
      "Epoch 182/200\n",
      "11719/11719 [==============================] - 10s 838us/step - loss: 0.0185 - accuracy: 0.9968 - val_loss: 0.0192 - val_accuracy: 0.9968\n",
      "Epoch 183/200\n",
      "11719/11719 [==============================] - 10s 866us/step - loss: 0.0185 - accuracy: 0.9968 - val_loss: 0.0190 - val_accuracy: 0.9968\n",
      "Epoch 184/200\n",
      "11719/11719 [==============================] - 11s 906us/step - loss: 0.0185 - accuracy: 0.9968 - val_loss: 0.0189 - val_accuracy: 0.9968\n",
      "Epoch 185/200\n",
      "11719/11719 [==============================] - 11s 905us/step - loss: 0.0185 - accuracy: 0.9968 - val_loss: 0.0188 - val_accuracy: 0.9968\n",
      "Epoch 186/200\n",
      "11719/11719 [==============================] - 12s 1ms/step - loss: 0.0184 - accuracy: 0.9968 - val_loss: 0.0190 - val_accuracy: 0.9968\n",
      "Epoch 187/200\n",
      "11719/11719 [==============================] - 12s 1ms/step - loss: 0.0184 - accuracy: 0.9968 - val_loss: 0.0188 - val_accuracy: 0.9968\n",
      "Epoch 188/200\n",
      "11719/11719 [==============================] - 12s 993us/step - loss: 0.0184 - accuracy: 0.9968 - val_loss: 0.0188 - val_accuracy: 0.9968\n",
      "Epoch 189/200\n",
      "11719/11719 [==============================] - 14s 1ms/step - loss: 0.0184 - accuracy: 0.9968 - val_loss: 0.0188 - val_accuracy: 0.9968\n",
      "Epoch 190/200\n",
      "11719/11719 [==============================] - 12s 1ms/step - loss: 0.0184 - accuracy: 0.9968 - val_loss: 0.0188 - val_accuracy: 0.9968\n",
      "Epoch 191/200\n",
      "11719/11719 [==============================] - 12s 1ms/step - loss: 0.0184 - accuracy: 0.9968 - val_loss: 0.0188 - val_accuracy: 0.9968\n",
      "Epoch 192/200\n",
      "11719/11719 [==============================] - 11s 903us/step - loss: 0.0184 - accuracy: 0.9968 - val_loss: 0.0189 - val_accuracy: 0.9968\n",
      "Epoch 193/200\n",
      "11719/11719 [==============================] - 10s 873us/step - loss: 0.0184 - accuracy: 0.9968 - val_loss: 0.0188 - val_accuracy: 0.9968\n",
      "Epoch 194/200\n",
      "11719/11719 [==============================] - 10s 853us/step - loss: 0.0184 - accuracy: 0.9968 - val_loss: 0.0188 - val_accuracy: 0.9968\n",
      "Epoch 195/200\n",
      "11719/11719 [==============================] - 10s 853us/step - loss: 0.0184 - accuracy: 0.9968 - val_loss: 0.0188 - val_accuracy: 0.9968\n",
      "Epoch 196/200\n",
      "11719/11719 [==============================] - 10s 867us/step - loss: 0.0185 - accuracy: 0.9968 - val_loss: 0.0188 - val_accuracy: 0.9968\n",
      "Epoch 197/200\n",
      "11719/11719 [==============================] - 10s 861us/step - loss: 0.0184 - accuracy: 0.9968 - val_loss: 0.0189 - val_accuracy: 0.9968\n",
      "Epoch 198/200\n",
      "11719/11719 [==============================] - 12s 984us/step - loss: 0.0185 - accuracy: 0.9968 - val_loss: 0.0188 - val_accuracy: 0.9968\n",
      "Epoch 199/200\n",
      "11719/11719 [==============================] - 12s 1ms/step - loss: 0.0184 - accuracy: 0.9968 - val_loss: 0.0188 - val_accuracy: 0.9968\n",
      "Epoch 200/200\n",
      "11719/11719 [==============================] - 11s 955us/step - loss: 0.0184 - accuracy: 0.9968 - val_loss: 0.0189 - val_accuracy: 0.9968\n"
     ]
    }
   ],
   "source": [
    "hist = model.fit(x_train, y_train, epochs=200, validation_data=(x_val, y_val))"
   ],
   "metadata": {
    "collapsed": false,
    "ExecuteTime": {
     "end_time": "2024-03-04T21:21:47.104764480Z",
     "start_time": "2024-03-04T20:48:40.375256304Z"
    }
   },
   "id": "6691179818693c42"
  },
  {
   "cell_type": "code",
   "execution_count": 84,
   "outputs": [],
   "source": [
    "vacc, vloss = str(round(hist.history['val_accuracy'][-1], 3)), str(round(hist.history['val_loss'][-1], 3))"
   ],
   "metadata": {
    "collapsed": false,
    "ExecuteTime": {
     "end_time": "2024-03-04T21:21:47.106893776Z",
     "start_time": "2024-03-04T21:21:47.104694215Z"
    }
   },
   "id": "a0afed56b4248b5c"
  },
  {
   "cell_type": "code",
   "execution_count": 85,
   "outputs": [],
   "source": [
    "model.save('../models/raycasting_9_vacc-' + vacc + '_vloss-' + vloss + '.keras')"
   ],
   "metadata": {
    "collapsed": false,
    "ExecuteTime": {
     "end_time": "2024-03-04T21:21:47.153216977Z",
     "start_time": "2024-03-04T21:21:47.106944523Z"
    }
   },
   "id": "b4e740ced3167447"
  },
  {
   "cell_type": "code",
   "execution_count": 87,
   "outputs": [
    {
     "data": {
      "text/plain": "<Figure size 640x480 with 1 Axes>",
      "image/png": "[encoded data removed]"
     },
     "metadata": {},
     "output_type": "display_data"
    }
   ],
   "source": [
    "plt.plot(hist.history['loss'])\n",
    "plt.plot(hist.history['val_loss'])\n",
    "plt.title('Model loss')  # for geometry in [pcd, line_set, arrow]:\n",
    "\n",
    "plt.ylabel('Loss')\n",
    "plt.xlabel('Epoch')\n",
    "plt.legend(['Train', 'Val'], loc='upper right')\n",
    "plt.show()"
   ],
   "metadata": {
    "collapsed": false,
    "ExecuteTime": {
     "end_time": "2024-03-05T02:04:20.936661012Z",
     "start_time": "2024-03-05T02:04:20.827935148Z"
    }
   },
   "id": "b32f1638bbda09ab"
  },
  {
   "cell_type": "code",
   "execution_count": 88,
   "outputs": [
    {
     "data": {
      "text/plain": "<Figure size 640x480 with 1 Axes>",
      "image/png": "[encoded data removed]"
     },
     "metadata": {},
     "output_type": "display_data"
    }
   ],
   "source": [
    "plt.plot(hist.history['accuracy'])\n",
    "plt.plot(hist.history['val_accuracy'])\n",
    "plt.title('Model accuracy')\n",
    "plt.ylabel('Accuracy')\n",
    "plt.xlabel('Epoch')\n",
    "plt.ylim(0.6, 1)\n",
    "plt.legend(['Train', 'Val'], loc='upper right')\n",
    "plt.show()"
   ],
   "metadata": {
    "collapsed": false,
    "ExecuteTime": {
     "end_time": "2024-03-05T02:04:24.532861124Z",
     "start_time": "2024-03-05T02:04:24.443004841Z"
    }
   },
   "id": "397fcede3c30b2a1"
  },
  {
   "cell_type": "code",
   "execution_count": 89,
   "outputs": [
    {
     "name": "stdout",
     "output_type": "stream",
     "text": [
      "1563/1563 [==============================] - 1s 469us/step - loss: 0.0176 - accuracy: 0.9969\n"
     ]
    },
    {
     "data": {
      "text/plain": "[0.01762336492538452, 0.9969199895858765]"
     },
     "execution_count": 89,
     "metadata": {},
     "output_type": "execute_result"
    }
   ],
   "source": [
    "model.evaluate(x_test, y_test)"
   ],
   "metadata": {
    "collapsed": false,
    "ExecuteTime": {
     "end_time": "2024-03-05T02:04:27.740830931Z",
     "start_time": "2024-03-05T02:04:26.970005336Z"
    }
   },
   "id": "850f81d8ce1c0b6"
  },
  {
   "cell_type": "markdown",
   "source": [
    "## Generate stationary presets"
   ],
   "metadata": {
    "collapsed": false
   },
   "id": "27d9efd45ff74c91"
  },
  {
   "cell_type": "code",
   "execution_count": 90,
   "outputs": [
    {
     "data": {
      "text/plain": "array([[0.],\n       [0.],\n       [0.],\n       ...,\n       [0.],\n       [0.],\n       [0.]])"
     },
     "execution_count": 90,
     "metadata": {},
     "output_type": "execute_result"
    }
   ],
   "source": [
    "y_train"
   ],
   "metadata": {
    "collapsed": false,
    "ExecuteTime": {
     "end_time": "2024-03-05T02:04:30.128504893Z",
     "start_time": "2024-03-05T02:04:30.125653869Z"
    }
   },
   "id": "adb387ef97437a65"
  },
  {
   "cell_type": "code",
   "execution_count": 94,
   "outputs": [
    {
     "name": "stdout",
     "output_type": "stream",
     "text": [
      "1/1 [==============================] - 0s 11ms/step\n"
     ]
    },
    {
     "data": {
      "text/plain": "array([[0.01115555]], dtype=float32)"
     },
     "execution_count": 94,
     "metadata": {},
     "output_type": "execute_result"
    }
   ],
   "source": [
    "model.predict(np.array([x_train[278288]]))"
   ],
   "metadata": {
    "collapsed": false,
    "ExecuteTime": {
     "end_time": "2024-03-05T02:05:28.595113406Z",
     "start_time": "2024-03-05T02:05:28.554161735Z"
    }
   },
   "id": "6c1504b513158689"
  },
  {
   "cell_type": "code",
   "execution_count": 93,
   "outputs": [
    {
     "data": {
      "text/plain": "array([0.84041792, 0.18915337, 0.00209997, 0.0023331 ])"
     },
     "execution_count": 93,
     "metadata": {},
     "output_type": "execute_result"
    }
   ],
   "source": [
    "x_train[278288]"
   ],
   "metadata": {
    "collapsed": false,
    "ExecuteTime": {
     "end_time": "2024-03-05T02:05:16.308932177Z",
     "start_time": "2024-03-05T02:05:16.295477728Z"
    }
   },
   "id": "4ce573fcd47f19d5"
  },
  {
   "cell_type": "code",
   "execution_count": 105,
   "outputs": [],
   "source": [
    "def transform(x_pos, y_pos, pivot_angle_pos, theta_pos):\n",
    "    transformed = [[fld_x_scaler.transform([[x_pos]])[0][0], fld_y_scaler.transform([[y_pos]])[0][0],\n",
    "             pivot_angle_scaler.transform([[pivot_angle_pos]])[0][0], theta_scaler.transform([[theta_pos]])[0][0]]]\n",
    "    assert np.max(transformed) <= 1 and np.min(transformed) >= 0\n",
    "    return np.array(transformed)"
   ],
   "metadata": {
    "collapsed": false,
    "ExecuteTime": {
     "end_time": "2024-03-05T02:10:40.151714419Z",
     "start_time": "2024-03-05T02:10:40.142621394Z"
    }
   },
   "id": "c5f882eeb5f948c5"
  },
  {
   "cell_type": "code",
   "execution_count": 148,
   "outputs": [],
   "source": [
    "map_size = 10\n",
    "\n",
    "max_y = 323.22774925864445\n",
    "max_x = 651.2475068039508\n",
    "\n",
    "# Proportional to the size of the field\n",
    "map_size_x = int(max_x / 10)\n",
    "map_size_y = int(max_y / 10)\n",
    "\n",
    "heat_map = [[0 for _ in range(map_size_x)] for _ in range(map_size_y)]\n",
    "\n",
    "for idxy, i_y in enumerate(np.linspace(0.001, max_y, map_size_y)):\n",
    "    for idxx, i_x in enumerate(np.linspace(0.001, max_x, map_size_x)):\n",
    "        heat_map[idxy][idxx] = model.predict((transform(i_x, i_y, 45, 37.52586018440102)), verbose=0)[0][0]"
   ],
   "metadata": {
    "collapsed": false,
    "ExecuteTime": {
     "end_time": "2024-03-05T02:43:21.293123731Z",
     "start_time": "2024-03-05T02:42:05.868338872Z"
    }
   },
   "id": "8781a9051bd39aa2"
  },
  {
   "cell_type": "code",
   "execution_count": 149,
   "outputs": [],
   "source": [
    "heat_map = np.array(heat_map)\n",
    "heat_map *= 10"
   ],
   "metadata": {
    "collapsed": false,
    "ExecuteTime": {
     "end_time": "2024-03-05T02:43:21.297572405Z",
     "start_time": "2024-03-05T02:43:21.295267265Z"
    }
   },
   "id": "703372c44d100f37"
  },
  {
   "cell_type": "code",
   "execution_count": 150,
   "outputs": [],
   "source": [
    "heat_map = np.array(heat_map)\n",
    "heat_map_img = np.array(heat_map * 255, dtype=np.uint8)\n",
    "heat_map_img = np.array([[[0, i, 0] for i in row] for row in heat_map_img])"
   ],
   "metadata": {
    "collapsed": false,
    "ExecuteTime": {
     "end_time": "2024-03-05T02:43:21.326433032Z",
     "start_time": "2024-03-05T02:43:21.298745862Z"
    }
   },
   "id": "720b2fb507f20b3f"
  },
  {
   "cell_type": "code",
   "execution_count": 152,
   "outputs": [
    {
     "data": {
      "text/plain": "<matplotlib.image.AxesImage at 0x7fab1c906920>"
     },
     "execution_count": 152,
     "metadata": {},
     "output_type": "execute_result"
    },
    {
     "data": {
      "text/plain": "<Figure size 640x480 with 1 Axes>",
      "image/png": "[encoded data removed]"
     },
     "metadata": {},
     "output_type": "display_data"
    }
   ],
   "source": [
    "plt.imshow(heat_map_img, cmap='hot', interpolation='nearest')"
   ],
   "metadata": {
    "collapsed": false,
    "ExecuteTime": {
     "end_time": "2024-03-05T02:44:05.332074773Z",
     "start_time": "2024-03-05T02:44:05.214371142Z"
    }
   },
   "id": "bc5d54dbf09ac45a"
  }
 ],
 "metadata": {
  "kernelspec": {
   "display_name": "Python 3",
   "language": "python",
   "name": "python3"
  },
  "language_info": {
   "codemirror_mode": {
    "name": "ipython",
    "version": 2
   },
   "file_extension": ".py",
   "mimetype": "text/x-python",
   "name": "python",
   "nbconvert_exporter": "python",
   "pygments_lexer": "ipython2",
   "version": "2.7.6"
  }
 },
 "nbformat": 4,
 "nbformat_minor": 5
}
